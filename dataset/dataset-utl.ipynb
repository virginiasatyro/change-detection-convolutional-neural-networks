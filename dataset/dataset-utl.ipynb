{
 "cells": [
  {
   "cell_type": "markdown",
   "metadata": {},
   "source": [
    "# Dataset - Utilities"
   ]
  },
  {
   "cell_type": "code",
   "execution_count": 11,
   "metadata": {},
   "outputs": [],
   "source": [
    "# 10m resolution, true color\n",
    "sentinel_red_10m   = \"B04.tif\"\n",
    "sentinel_green_10m = \"B03.tif\"\n",
    "sentinel_blue_10m  = \"B02.tif\"\n",
    "sentinel_nir_10m   = \"B08.tif\"\n",
    "\n",
    "# 20m resolution, swir 1\n",
    "sentinel_ir_1_20m   = \"B05.tif\"\n",
    "sentinel_ir_2_20m   = \"B06.tif\"\n",
    "sentinel_ir_3_20m   = \"B07.tif\"\n",
    "sentinel_ir_4_20m   = \"B8A.tif\"\n",
    "sentinel_swir_1_20m = \"B11.tif\"\n",
    "sentinel_swir_2_20m = \"B12.tif\"\n",
    "\n",
    "# 60m resolution\n",
    "sentinel_aerossol_60m     = \"B01.tif\"\n",
    "sentinel_water_vaport_60m = \"B09.tif\"\n",
    "sentinel_cirrus_60m       = \"B10.tif\""
   ]
  },
  {
   "cell_type": "markdown",
   "metadata": {},
   "source": [
    "Ajuste da escala de cinza da imagem I para s."
   ]
  },
  {
   "cell_type": "code",
   "execution_count": 1,
   "metadata": {},
   "outputs": [],
   "source": [
    "def adjust_shape_img(I, s):\n",
    "    \"\"\"Adjust shape of the grayscale image I to s\"\"\"\n",
    "    print(\"adjust_shape\")"
   ]
  },
  {
   "cell_type": "markdown",
   "metadata": {},
   "source": [
    "Leitura das imagens do Sentinel-2 para bandas RBG."
   ]
  },
  {
   "cell_type": "code",
   "execution_count": 4,
   "metadata": {},
   "outputs": [],
   "source": [
    "def read_sentinel_img(path):\n",
    "    \"\"\"Read cropped Sentinel-2 images: RGB bands.\"\"\"\n",
    "    print(\"read_sentinel_img\")"
   ]
  },
  {
   "cell_type": "markdown",
   "metadata": {},
   "source": [
    "Leitura das imagens do Sentinel-2: bandas RGB + NIR (infravermelho próximo)."
   ]
  },
  {
   "cell_type": "code",
   "execution_count": 5,
   "metadata": {},
   "outputs": [],
   "source": [
    "def read_sentinel_img_nir(path):\n",
    "    \"\"\"Read cropped Sentinel-2 images: RGB bands.\"\"\"\n",
    "    print(\"read_sentinel_img_nir\")"
   ]
  },
  {
   "cell_type": "markdown",
   "metadata": {},
   "source": [
    "Leitura das imagens do Sentinel-2 para bandas com resolução menor ou igual a 20m."
   ]
  },
  {
   "cell_type": "code",
   "execution_count": 8,
   "metadata": {},
   "outputs": [],
   "source": [
    "def read_sentinel_img_20(path):\n",
    "    \"\"\"Read cropped Sentinel-2 images: bandas resolution \n",
    "       less or equals to 20m\"\"\"\n",
    "    print(\"read_sentinel_img_20\")"
   ]
  },
  {
   "cell_type": "markdown",
   "metadata": {},
   "source": [
    "Leitura das imagens do Sentinel-2: todas as bandas."
   ]
  },
  {
   "cell_type": "code",
   "execution_count": null,
   "metadata": {},
   "outputs": [],
   "source": [
    "def read_sentinel_img_60(path):\n",
    "    \"\"\"Read cropped Sentinel-2 images: all bands.\"\"\""
   ]
  }
 ],
 "metadata": {
  "kernelspec": {
   "display_name": "Python 3.8.5 64-bit ('base': conda)",
   "language": "python",
   "name": "python38564bitbasecondab918388200e74c19bbf7a29e3542111d"
  },
  "language_info": {
   "codemirror_mode": {
    "name": "ipython",
    "version": 3
   },
   "file_extension": ".py",
   "mimetype": "text/x-python",
   "name": "python",
   "nbconvert_exporter": "python",
   "pygments_lexer": "ipython3",
   "version": "3.8.5"
  }
 },
 "nbformat": 4,
 "nbformat_minor": 4
}
