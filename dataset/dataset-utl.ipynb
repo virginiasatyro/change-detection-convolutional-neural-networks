{
 "cells": [
  {
   "cell_type": "markdown",
   "metadata": {},
   "source": [
    "# Dataset - Utilities"
   ]
  },
  {
   "cell_type": "code",
   "execution_count": 13,
   "metadata": {},
   "outputs": [],
   "source": [
    "# 10m resolution, true color\n",
    "SENTINEL_RED_10m   = \"B04.tif\"\n",
    "SENTINEL_GREEN_10m = \"B03.tif\"\n",
    "SENTINEL_BLUE_10m  = \"B02.tif\"\n",
    "SENTINEL_NIR_10m   = \"B08.tif\"\n",
    "\n",
    "# 20m resolution, swir 1\n",
    "SENTINEL_IR_1_20m   = \"B05.tif\"\n",
    "SENTINEL_IR_2_20m   = \"B06.tif\"\n",
    "SENTINEL_IR_3_20m   = \"B07.tif\"\n",
    "SENTINEL_IR_4_20m   = \"B8A.tif\"\n",
    "SENTINEL_SWIR_1_20m = \"B11.tif\"\n",
    "SENTINEL_SWIR_2_20m = \"B12.tif\"\n",
    "\n",
    "# 60m resolution\n",
    "SENTINEL_AEROSOL_60m     = \"B01.tif\"\n",
    "SENTINEL_WATER_VAPOR_60m = \"B09.tif\"\n",
    "SENTINEL_CIRRUS_60m      = \"B10.tif\"\n",
    "\n",
    "# image pair paths\n",
    "IMG_1 = '/imgs_1/'\n",
    "IMG_2 = '/imgs_2/'\n",
    "# change\n",
    "IMG_CM = '/cm/cm.png'"
   ]
  },
  {
   "cell_type": "markdown",
   "metadata": {},
   "source": [
    "Ajuste da escala de cinza da imagem I para s."
   ]
  },
  {
   "cell_type": "code",
   "execution_count": 1,
   "metadata": {},
   "outputs": [],
   "source": [
    "def adjust_shape_img(I, s):\n",
    "    \"\"\"Adjust shape of the grayscale image I to s\"\"\"\n",
    "    print(\"adjust_shape()\")"
   ]
  },
  {
   "cell_type": "markdown",
   "metadata": {},
   "source": [
    "Leitura das imagens do Sentinel-2 para bandas RBG."
   ]
  },
  {
   "cell_type": "code",
   "execution_count": 4,
   "metadata": {},
   "outputs": [],
   "source": [
    "def read_sentinel_img(path):\n",
    "    \"\"\"Read cropped Sentinel-2 images: RGB bands\"\"\"\n",
    "    print(\"read_sentinel_img()\")"
   ]
  },
  {
   "cell_type": "markdown",
   "metadata": {},
   "source": [
    "Leitura das imagens do Sentinel-2: bandas RGB + NIR (infravermelho próximo)."
   ]
  },
  {
   "cell_type": "code",
   "execution_count": 5,
   "metadata": {},
   "outputs": [],
   "source": [
    "def read_sentinel_img_nir(path):\n",
    "    \"\"\"Read cropped Sentinel-2 images: RGB bands\"\"\"\n",
    "    print(\"read_sentinel_img_nir()\")"
   ]
  },
  {
   "cell_type": "markdown",
   "metadata": {},
   "source": [
    "Leitura das imagens do Sentinel-2 para bandas com resolução menor ou igual a 20m."
   ]
  },
  {
   "cell_type": "code",
   "execution_count": 8,
   "metadata": {},
   "outputs": [],
   "source": [
    "def read_sentinel_img_20(path):\n",
    "    \"\"\"Read cropped Sentinel-2 images: bandas resolution \n",
    "       less or equals to 20m\"\"\"\n",
    "    print(\"read_sentinel_img_20()\")"
   ]
  },
  {
   "cell_type": "markdown",
   "metadata": {},
   "source": [
    "Leitura das imagens do Sentinel-2: todas as bandas."
   ]
  },
  {
   "cell_type": "code",
   "execution_count": 12,
   "metadata": {},
   "outputs": [],
   "source": [
    "def read_sentinel_img_60(path):\n",
    "    \"\"\"Read cropped Sentinel-2 images: all bands\"\"\"\n",
    "    print(\"read_sentinel_img_60()\")"
   ]
  },
  {
   "cell_type": "markdown",
   "metadata": {},
   "source": [
    "Leitura das imagens do Sentinel-2: pares de imagem e mapa de mudança. Decide de qual das formas as imagens serão lidas baseados no tipo definido."
   ]
  },
  {
   "cell_type": "code",
   "execution_count": 14,
   "metadata": {},
   "outputs": [],
   "source": [
    "def read_sentinel_img_type(path):\n",
    "    \"\"\"Read cropped Sentinel-2 image pairs and map of changes\"\"\"\n",
    "    print(\"read_sentinel_img_type()\")"
   ]
  },
  {
   "cell_type": "markdown",
   "metadata": {},
   "source": [
    "Transposição das imagens para PyTorch."
   ]
  },
  {
   "cell_type": "code",
   "execution_count": 16,
   "metadata": {},
   "outputs": [],
   "source": [
    "def reshape_torch(I):\n",
    "    \"\"\"Transpose images for PyTorch coordinates\"\"\"\n",
    "    print(\"reshape_torch()\")"
   ]
  },
  {
   "cell_type": "markdown",
   "metadata": {},
   "source": [
    "Change detection dataset class. Used for training and testing data."
   ]
  },
  {
   "cell_type": "code",
   "execution_count": 23,
   "metadata": {},
   "outputs": [
    {
     "name": "stdout",
     "output_type": "stream",
     "text": [
      "class ChangeDetectionDataset\n"
     ]
    }
   ],
   "source": [
    "class ChangeDetectionDataset():\n",
    "    \"\"\"Change Detection dataset class. For training and testing data\"\"\"\n",
    "    print(\"class ChangeDetectionDataset\")"
   ]
  },
  {
   "cell_type": "markdown",
   "metadata": {},
   "source": [
    "Gira aleatoriamente as imagens em uma amostra."
   ]
  },
  {
   "cell_type": "code",
   "execution_count": 24,
   "metadata": {},
   "outputs": [
    {
     "name": "stdout",
     "output_type": "stream",
     "text": [
      "class RandomFlip\n"
     ]
    }
   ],
   "source": [
    "class RandomFlip():\n",
    "    \"\"\"Flip randomly the images in a sample\"\"\"\n",
    "    print(\"class RandomFlip\")"
   ]
  },
  {
   "cell_type": "markdown",
   "metadata": {},
   "source": [
    "Rotaciona aleatoriamente as imagens em uma amostra."
   ]
  },
  {
   "cell_type": "code",
   "execution_count": null,
   "metadata": {},
   "outputs": [],
   "source": [
    "class RandomRot():\n",
    "    \"\"\"Rotate randomly the images in a sample\"\"\"\n",
    "    print(\"class RandomRot\")"
   ]
  }
 ],
 "metadata": {
  "kernelspec": {
   "display_name": "Python 3.8.5 64-bit ('base': conda)",
   "language": "python",
   "name": "python38564bitbasecondab918388200e74c19bbf7a29e3542111d"
  },
  "language_info": {
   "codemirror_mode": {
    "name": "ipython",
    "version": 3
   },
   "file_extension": ".py",
   "mimetype": "text/x-python",
   "name": "python",
   "nbconvert_exporter": "python",
   "pygments_lexer": "ipython3",
   "version": "3.8.5"
  }
 },
 "nbformat": 4,
 "nbformat_minor": 4
}
