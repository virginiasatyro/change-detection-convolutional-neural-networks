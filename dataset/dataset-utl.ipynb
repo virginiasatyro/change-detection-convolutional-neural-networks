{
 "cells": [
  {
   "cell_type": "markdown",
   "metadata": {},
   "source": [
    "# Dataset - Utilities"
   ]
  },
  {
   "cell_type": "code",
   "execution_count": 13,
   "metadata": {},
   "outputs": [],
   "source": [
    "# 10m resolution, true color\n",
    "SENTINEL_RED_10m   = \"B04.tif\"\n",
    "SENTINEL_GREEN_10m = \"B03.tif\"\n",
    "SENTINEL_BLUE_10m  = \"B02.tif\"\n",
    "SENTINEL_NIR_10m   = \"B08.tif\"\n",
    "\n",
    "# 20m resolution, swir 1\n",
    "SENTINEL_IR_1_20m   = \"B05.tif\"\n",
    "SENTINEL_IR_2_20m   = \"B06.tif\"\n",
    "SENTINEL_IR_3_20m   = \"B07.tif\"\n",
    "SENTINEL_IR_4_20m   = \"B8A.tif\"\n",
    "SENTINEL_SWIR_1_20m = \"B11.tif\"\n",
    "SENTINEL_SWIR_2_20m = \"B12.tif\"\n",
    "\n",
    "# 60m resolution\n",
    "SENTINEL_AEROSOL_60m     = \"B01.tif\"\n",
    "SENTINEL_WATER_VAPOR_60m = \"B09.tif\"\n",
    "SENTINEL_CIRRUS_60m      = \"B10.tif\"\n",
    "\n",
    "# image pair paths\n",
    "IMG_1 = '/imgs_1/'\n",
    "IMG_2 = '/imgs_2/'\n",
    "# change\n",
    "IMG_CM = '/cm/cm.png'"
   ]
  },
  {
   "cell_type": "code",
   "execution_count": null,
   "metadata": {},
   "outputs": [],
   "source": [
    "NORMALISE_IMGS = True"
   ]
  },
  {
   "cell_type": "markdown",
   "metadata": {},
   "source": [
    "Ajuste da escala de cinza da imagem I para s. Ajusta as imagens que não são as 4 de resolução 10m."
   ]
  },
  {
   "cell_type": "code",
   "execution_count": 39,
   "metadata": {},
   "outputs": [],
   "source": [
    "# need to test\n",
    "def adjust_shape_img(I, shape):\n",
    "    \"\"\"Adjust shape of the grayscale image I to s\"\"\"\n",
    "    \n",
    "    # crop\n",
    "    I = I[:shape[0], :shape[1]]\n",
    "    shape_img = I.shape\n",
    "    \n",
    "    # pad\n",
    "    p0 = max(0, shape[0] - shape_img[0])\n",
    "    p1 = max(0, shape[1] - shape_img[1])\n",
    "    \n",
    "    print(\"adjust_shape()\")\n",
    "    return np.pad(I, ((0, p0), (0, p1)), 'edge')"
   ]
  },
  {
   "cell_type": "markdown",
   "metadata": {},
   "source": [
    "Leitura das imagens do Sentinel-2 para bandas RBG.\n",
    "\n",
    "#### io.imread\n",
    "\n",
    "```skimage.io.imread(fname, as_gray=False, plugin=None, **plugin_args)```\n",
    "\n",
    "#### numpy.stack\n",
    "\n",
    "```numpy.stack(arrays, axis=0, out=None)```\n",
    "\n",
    "Join a sequence of arrays along a new axis.\n",
    "\n",
    "#### numpy.mean\n",
    "\n",
    "``` numpy.mean(a, axis=None, dtype=None, out=None, keepdims=<no value>, *, where=<no value>)[source]```\n",
    "\n",
    "Compute the arithmetic mean along the specified axis. Returns the average of the array elements. \n",
    "\n",
    "#### numpy.std\n",
    "\n",
    "```numpy.std(arr, axis = None)```\n",
    "\n",
    "Compute the standard deviation of the given data (array elements) along the specified axis. Standard deviation is measured as the spread of data distribution in the given data set.\n"
   ]
  },
  {
   "cell_type": "code",
   "execution_count": 3,
   "metadata": {},
   "outputs": [],
   "source": [
    "def read_sentinel_img_10(path):\n",
    "    \"\"\"Read cropped Sentinel-2 images: RGB bands\"\"\"\n",
    "    \n",
    "    img_name = os.listdir(path)[0][:-7] # ?\n",
    "    \n",
    "    red   = io.imread(path + img_name + SENTINEL_RED_10m)\n",
    "    green = io.imread(path + img_name + SENTINEL_GREEN_10m)\n",
    "    blue  = io.imread(path + img_name + SENTINEL_BLUE_10m)\n",
    "    \n",
    "    I = np.stack((red, green, blue), axis=2).astype('float')\n",
    "    \n",
    "    if NORMALISE_IMGS:\n",
    "        I = (I - I.mean()) / I.std() # I é torch?\n",
    "    \n",
    "    print(\"read_sentinel_img_10()\")\n",
    "    return I"
   ]
  },
  {
   "cell_type": "markdown",
   "metadata": {},
   "source": [
    "Leitura das imagens do Sentinel-2: bandas RGB + NIR (infravermelho próximo)."
   ]
  },
  {
   "cell_type": "code",
   "execution_count": 38,
   "metadata": {},
   "outputs": [],
   "source": [
    "def read_sentinel_img_nir(path):\n",
    "    \"\"\"Read cropped Sentinel-2 images: RGB bands + NIR\"\"\"\n",
    "    \n",
    "    img_name = os.listdir(path)[0][:-7]\n",
    "    \n",
    "    red   = io.imread(path + img_name + SENTINEL_RED_10m)\n",
    "    green = io.imread(path + img_name + SENTINEL_GREEN_10m)\n",
    "    blue  = io.imread(path + img_name + SENTINEL_BLUE_10m)\n",
    "    nir   = io.imread(path + img_name + SENTINEL_NIR_10m)\n",
    "    \n",
    "    I = np.stack((red, green, blue, nir), axis=2).astype('float')\n",
    "    \n",
    "    if NORMALISE_IMGS:\n",
    "        I = (I - I.mean()) / I.std()\n",
    "    \n",
    "    print(\"read_sentinel_img_nir()\")\n",
    "    return I"
   ]
  },
  {
   "cell_type": "markdown",
   "metadata": {},
   "source": [
    "Leitura das imagens do Sentinel-2 para bandas com resolução menor ou igual a 20m.\n",
    "\n",
    "#### scipy.ndimage.zoom\n",
    "\n",
    "```scipy.ndimage.zoom(input, zoom, output=None, order=3, mode='constant', cval=0.0, prefilter=True, *, grid_mode=False)```"
   ]
  },
  {
   "cell_type": "code",
   "execution_count": 40,
   "metadata": {},
   "outputs": [],
   "source": [
    "def read_sentinel_img_20(path):\n",
    "    \"\"\"Read cropped Sentinel-2 images: bandas resolution \n",
    "       less or equals to 20m\"\"\"\n",
    "    \n",
    "    img_name = os.listdir(path)[0][:-7]\n",
    "    \n",
    "    red   = io.imread(path + img_name + SENTINEL_RED_10m)\n",
    "    green = io.imread(path + img_name + SENTINEL_GREEN_10m)\n",
    "    blue  = io.imread(path + img_name + SENTINEL_BLUE_10m)\n",
    "    nir   = io.imread(path + img_name + SENTINEL_NIR_10m)\n",
    "    \n",
    "    shape = red.shape\n",
    "    \n",
    "    ir1 = adjust_shape_img(zoom(io.imread(path + img_name + SENTINEL_IR_1_20m), 2), shape)\n",
    "    ir2 = adjust_shape_img(zoom(io.imread(path + img_name + SENTINEL_IR_2_20m), 2), shape)\n",
    "    ir3 = adjust_shape_img(zoom(io.imread(path + img_name + SENTINEL_IR_3_20m), 2), shape)\n",
    "    ir4 = adjust_shape_img(zoom(io.imread(path + img_name + SENTINEL_IR_4_20m), 2), shape)\n",
    "    \n",
    "    swir1 = adjust_shape(zoom(io.imread(path + im_name + SENTINEL_SWIR_1_20m), 2), s)\n",
    "    swir2 = adjust_shape(zoom(io.imread(path + im_name + SENTINEL_SWIR_2_20m), 2), s)\n",
    "    \n",
    "    I = np.stack((red, green, blue, nir, ir1, ir2, ir3, ir4, swir1, swir2), axis=2).astype('float')\n",
    "    \n",
    "    if NORMALISE_IMGS:\n",
    "        I = (I - I.mean()) / I.std()\n",
    "    \n",
    "    print(\"read_sentinel_img_20()\")"
   ]
  },
  {
   "cell_type": "markdown",
   "metadata": {},
   "source": [
    "Leitura das imagens do Sentinel-2: todas as bandas."
   ]
  },
  {
   "cell_type": "code",
   "execution_count": 2,
   "metadata": {},
   "outputs": [],
   "source": [
    "def read_sentinel_img_60(path):\n",
    "    \"\"\"Read cropped Sentinel-2 images: all bands\"\"\"\n",
    "    \n",
    "    img_name = os.listdir(path)[0][:-7]\n",
    "    \n",
    "    red   = io.imread(path + img_name + SENTINEL_RED_10m)\n",
    "    green = io.imread(path + img_name + SENTINEL_GREEN_10m)\n",
    "    blue  = io.imread(path + img_name + SENTINEL_BLUE_10m)\n",
    "    nir   = io.imread(path + img_name + SENTINEL_NIR_10m)\n",
    "    \n",
    "    shape = red.shape\n",
    "    \n",
    "    ir1 = adjust_shape_img(zoom(io.imread(path + img_name + SENTINEL_IR_1_20m), 2), shape)\n",
    "    ir2 = adjust_shape_img(zoom(io.imread(path + img_name + SENTINEL_IR_2_20m), 2), shape)\n",
    "    ir3 = adjust_shape_img(zoom(io.imread(path + img_name + SENTINEL_IR_3_20m), 2), shape)\n",
    "    ir4 = adjust_shape_img(zoom(io.imread(path + img_name + SENTINEL_IR_4_20m), 2), shape)\n",
    "    \n",
    "    swir1 = adjust_shape(zoom(io.imread(path + im_name + SENTINEL_SWIR_1_20m), 2), s)\n",
    "    swir2 = adjust_shape(zoom(io.imread(path + im_name + SENTINEL_SWIR_2_20m), 2), s)\n",
    "    \n",
    "    uv  = adjust_shape(zoom(io.imread(path + im_name + SENTINEL_AEROSOL_60m), 6), s)\n",
    "    wv  = adjust_shape(zoom(io.imread(path + im_name + SENTINEL_WATER_VAPOR_60m), 6), s)\n",
    "    cir = adjust_shape(zoom(io.imread(path + im_name + SENTINEL_CIRRUS_60m), 6), s)\n",
    "    \n",
    "    \n",
    "    I = np.stack((red, green, blue, nir, ir1, ir2, ir3, ir4, swir1, swir2, uv, wv, cir), axis=2).astype('float')\n",
    "    \n",
    "    if NORMALISE_IMGS:\n",
    "        I = (I - I.mean()) / I.std()\n",
    "    \n",
    "    print(\"read_sentinel_img_60()\")"
   ]
  },
  {
   "cell_type": "markdown",
   "metadata": {},
   "source": [
    "Criação de uma função mais abrnagente que substitua as acima: AINDA NÃO TESTADA"
   ]
  },
  {
   "cell_type": "code",
   "execution_count": 6,
   "metadata": {},
   "outputs": [],
   "source": [
    "# TO-DO: test this function\n",
    "def read_sentinel_img(path):\n",
    "    \"\"\"Read cropped Sentinel-2 images: all bands\"\"\"\n",
    "    \n",
    "    img_name = os.listdir(path)[0][:-7]\n",
    "    \n",
    "    if TYPE ==(1|2|3|4):\n",
    "        red   = io.imread(path + img_name + SENTINEL_RED_10m)\n",
    "        green = io.imread(path + img_name + SENTINEL_GREEN_10m)\n",
    "        blue  = io.imread(path + img_name + SENTINEL_BLUE_10m)\n",
    "        if(TYPE == 1):\n",
    "            I = np.stack((red, green, blue), axis=2).astype('float')\n",
    "    \n",
    "    if TYPE == (2|3|4):\n",
    "        nir   = io.imread(path + img_name + SENTINEL_NIR_10m)\n",
    "        shape = red.shape\n",
    "        if(TYPE == 2):\n",
    "            I = np.stack((red, green, blue, nir), axis=2).astype('float')\n",
    "    \n",
    "    if TYPE == (3|4):\n",
    "        ir1   = adjust_shape_img(zoom(io.imread(path + img_name + SENTINEL_IR_1_20m), 2), shape)\n",
    "        ir2   = adjust_shape_img(zoom(io.imread(path + img_name + SENTINEL_IR_2_20m), 2), shape)\n",
    "        ir3   = adjust_shape_img(zoom(io.imread(path + img_name + SENTINEL_IR_3_20m), 2), shape)\n",
    "        ir4   = adjust_shape_img(zoom(io.imread(path + img_name + SENTINEL_IR_4_20m), 2), shape)\n",
    "        swir1 = adjust_shape(zoom(io.imread(path + im_name + SENTINEL_SWIR_1_20m), 2), s)\n",
    "        swir2 = adjust_shape(zoom(io.imread(path + im_name + SENTINEL_SWIR_2_20m), 2), s)\n",
    "        if(TYPE == 3):\n",
    "             I = np.stack((red, green, blue, nir, ir1, ir2, ir3, ir4, swir1, swir2), axis=2).astype('float')\n",
    "        \n",
    "    if TYPE == 4:\n",
    "        uv  = adjust_shape(zoom(io.imread(path + im_name + SENTINEL_AEROSOL_60m), 6), s)\n",
    "        wv  = adjust_shape(zoom(io.imread(path + im_name + SENTINEL_WATER_VAPOR_60m), 6), s)\n",
    "        cir = adjust_shape(zoom(io.imread(path + im_name + SENTINEL_CIRRUS_60m), 6), s)\n",
    "        \n",
    "        I = np.stack((red, green, blue, nir, ir1, ir2, ir3, ir4, swir1, swir2, uv, wv, cir), axis=2).astype('float')\n",
    "    \n",
    "    if NORMALISE_IMGS:\n",
    "        I = (I - I.mean()) / I.std()\n",
    "    \n",
    "    print(\"read_sentinel_img()\")"
   ]
  },
  {
   "cell_type": "markdown",
   "metadata": {},
   "source": [
    "Leitura das imagens do Sentinel-2: pares de imagem e mapa de mudança. Decide de qual das formas as imagens serão lidas baseados no tipo definido."
   ]
  },
  {
   "cell_type": "code",
   "execution_count": 14,
   "metadata": {},
   "outputs": [],
   "source": [
    "def read_sentinel_img_trio(path):\n",
    "    \"\"\"Read cropped Sentinel-2 image pairs and map of changes\"\"\"\n",
    "    \n",
    "    # read the images based on the types\n",
    "    # it was tested with the other functions\n",
    "    # TO-DO: test with read_sentinel_img\n",
    "    # TYPE is defined globally\n",
    "    I1 = read_sentinel_img(path + IMG_1)\n",
    "    I2 = read_sentinel_img(path + IMG_2)\n",
    "    \n",
    "    cm = io.imread(path + IMG_CM, as_gray=True) != 0\n",
    "    \n",
    "    # crop if necessary\n",
    "    shape1 = I1.shape\n",
    "    shape2 = I2.shape\n",
    "    \n",
    "    # TO-DO: why just I2?\n",
    "    I2 = np.pad(I2, ((0, shape1[0] - shape2[0]), (0, shape1[1] - shape2[1]), (0, 0)), 'edge')\n",
    "    \n",
    "    print(\"read_sentinel_img_trio()\")\n",
    "    return I1, I2, cm"
   ]
  },
  {
   "cell_type": "markdown",
   "metadata": {},
   "source": [
    "Transposição das imagens para PyTorch.\n",
    "\n",
    "#### numpy.transpose\n",
    "\n",
    "```numpy.transpose(a, axes=None)```\n",
    "\n",
    "Reverse or permute the axes of an array; returns the modified array. For an array a with two axes, transpose(a) gives the matrix transpose.\n",
    "\n",
    "#### torch.from_numpy\n",
    "\n",
    "```torch.from_numpy(ndarray) → Tensor```\n",
    "\n",
    "Creates a Tensor from a numpy.ndarray. The returned tensor and ndarray share the same memory. Modifications to the tensor will be reflected in the ndarray and vice versa. The returned tensor is not resizable."
   ]
  },
  {
   "cell_type": "code",
   "execution_count": 8,
   "metadata": {},
   "outputs": [],
   "source": [
    "def reshape_torch(I):\n",
    "    \"\"\"Transpose images for PyTorch coordinates\"\"\"\n",
    "    \n",
    "    I_t = I.transpose((2, 0, 1))\n",
    "    \n",
    "    print(\"reshape_torch()\")\n",
    "    return torch.from_numpy(I_t)"
   ]
  },
  {
   "cell_type": "markdown",
   "metadata": {},
   "source": [
    "Change detection dataset class. Used for training and testing data."
   ]
  },
  {
   "cell_type": "code",
   "execution_count": 23,
   "metadata": {},
   "outputs": [
    {
     "name": "stdout",
     "output_type": "stream",
     "text": [
      "class ChangeDetectionDataset\n"
     ]
    }
   ],
   "source": [
    "class ChangeDetectionDataset():\n",
    "    \"\"\"Change Detection dataset class. For training and testing data\"\"\"\n",
    "    \n",
    "    def __init__(self, path, train = True, patch_side = PATCH_SIDE, stride = None, use_all_bands = False, transform=None):\n",
    "        \"\"\"\n",
    "        Args:\n",
    "            csv_file (string): path to the csv file with annotations\n",
    "            root_dir (string): directory with all the images\n",
    "            transform (callable, optional): optional transform to be applied on a sample\n",
    "        \"\"\"\n",
    "        \n",
    "    print(\"class ChangeDetectionDataset\")"
   ]
  },
  {
   "cell_type": "markdown",
   "metadata": {},
   "source": [
    "Gira aleatoriamente as imagens em uma amostra.\n",
    "\n",
    "#### __call__\n",
    "\n",
    "The ```__call__``` method enables programmers to write classes where the instances behave like functions and can be called like a function. When the instance is called as a function; if this method is defined, ```x(arg1, arg2, ...)``` is a shorthand for ```x.__call__(arg1, arg2, ...)```.\n",
    "\n",
    "```__init__``` is used to initialise newly created objects - ```x = Foo(1, 2, 3)```. ```__call__``` implements function call operator - ```x(1, 2, 3)```."
   ]
  },
  {
   "cell_type": "code",
   "execution_count": 9,
   "metadata": {},
   "outputs": [],
   "source": [
    "class RandomFlip():\n",
    "    \"\"\"Flip randomly the images in a sample\"\"\"\n",
    "    \n",
    "    def __call__(self, sample):\n",
    "        I1, I2, label = sample['I1'], sample['I2'], sample['label']\n",
    "        \n",
    "        if random.random() > 0.5: # ? TO-DO: try undesrtand this part\n",
    "            I1 = I1.numpy()[:, :, ::-1].copy()\n",
    "            I1 = torch.from_numpy(I1)\n",
    "            \n",
    "            I2 = I2.numpy()[:, :, ::-1].copy()\n",
    "            I2 = torch.from_numpy(I2)\n",
    "            \n",
    "            label = label.numpy()[:, :, ::-1].copy()\n",
    "            label = torch.from_numpy(label)\n",
    "            \n",
    "            print(\"class RandomFlip\")\n",
    "            return {'I1': I1, 'I2': I2, 'label': label}"
   ]
  },
  {
   "cell_type": "markdown",
   "metadata": {},
   "source": [
    "Rotaciona aleatoriamente as imagens em uma amostra."
   ]
  },
  {
   "cell_type": "code",
   "execution_count": 10,
   "metadata": {},
   "outputs": [],
   "source": [
    "class RandomRot():\n",
    "    \"\"\"Rotate randomly the images in a sample\"\"\"\n",
    "    \n",
    "    def __call__(self, sample):\n",
    "        I1, I2, label = sample['I1'], sample['I2'], sample['label']\n",
    "        \n",
    "        n = random.randint(0, 3) # TO-DO: unsdestand better\n",
    "        if n:\n",
    "            I1 = sample['I1'].numpy()\n",
    "            I1 = np.rot90(I1, n, axes=(1, 2)).copy()\n",
    "            I1 = torch.from_numpy(I1)\n",
    "            \n",
    "            I2 = sample['I2'].numpy()\n",
    "            I2 = np.rot90(I2, n, axes=(1, 2)).copy()\n",
    "            I2 = torch.from_numpy(I2)\n",
    "            \n",
    "            label = sample['label'].numpy()\n",
    "            label = np.rot0(label, n, axes=(0, 1)).copy()\n",
    "            label = torch.from_numpy(label)\n",
    "            \n",
    "        print(\"class RandomRot\")\n",
    "        return {'I1': I1, 'I2': I2, 'label': label}"
   ]
  }
 ],
 "metadata": {
  "kernelspec": {
   "display_name": "Python 3.8.5 64-bit ('base': conda)",
   "language": "python",
   "name": "python38564bitbasecondab918388200e74c19bbf7a29e3542111d"
  },
  "language_info": {
   "codemirror_mode": {
    "name": "ipython",
    "version": 3
   },
   "file_extension": ".py",
   "mimetype": "text/x-python",
   "name": "python",
   "nbconvert_exporter": "python",
   "pygments_lexer": "ipython3",
   "version": "3.8.5"
  }
 },
 "nbformat": 4,
 "nbformat_minor": 4
}
