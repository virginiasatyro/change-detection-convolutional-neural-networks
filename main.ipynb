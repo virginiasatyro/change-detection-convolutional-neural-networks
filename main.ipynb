{
 "cells": [
  {
   "cell_type": "markdown",
   "metadata": {},
   "source": [
    "# Detecção de Mudança\n",
    "\n",
    "## Imports\n",
    "\n",
    "### Pytorch\n",
    "\n",
    "[Pytorch](https://pytorch.org/docs/stable/index.html) é uma biblioteca otimizada de *tensors* para *Deep Learning* que utiliza GPUs (*Central Processing Unit*) e CPUs (*Graphics Processing Unit*) - [diferença entre CPUs e GPUs](https://canaltech.com.br/hardware/o-que-e-cpu-gpu-diferencas-154939/).\n",
    "\n",
    "[Pytorch](https://en.wikipedia.org/wiki/PyTorch) é uma biblioteca de *Machine Learning* baseada em *Torch*, é utilizada em aplicações de visão computacional e processamento de linguagem natural, primeiramente desenvolvida pelo *Facebook's AI Research lab (FAIR)*. Vários *softwares* que utilizam *Deep Learning* são desenvolvidos com base em *Pytorch*, como por exemplo Tesla Autopilot, Uber's Pyro, uggingFace's Transformers, yTorch Lightning, and Catalyst.\n"
   ]
  },
  {
   "cell_type": "code",
   "execution_count": 8,
   "metadata": {},
   "outputs": [
    {
     "name": "stdout",
     "output_type": "stream",
     "text": [
      "Pytorch imported\n"
     ]
    }
   ],
   "source": [
    "# Pytorch\n",
    "\n",
    "import torch\n",
    "import torch.nn as nn\n",
    "#...\n",
    "print(\"Pytorch imported - Ok\")"
   ]
  },
  {
   "cell_type": "markdown",
   "metadata": {},
   "source": [
    "### Models"
   ]
  },
  {
   "cell_type": "code",
   "execution_count": 9,
   "metadata": {},
   "outputs": [
    {
     "name": "stdout",
     "output_type": "stream",
     "text": [
      "Models imported\n"
     ]
    }
   ],
   "source": [
    "# Models\n",
    "\n",
    "from unet import unet\n",
    "# ..\n",
    "\n",
    "print(\"Models imported - Ok\")"
   ]
  },
  {
   "cell_type": "markdown",
   "metadata": {},
   "source": [
    "### Other"
   ]
  },
  {
   "cell_type": "code",
   "execution_count": 10,
   "metadata": {},
   "outputs": [
    {
     "name": "stdout",
     "output_type": "stream",
     "text": [
      "Others imported\n"
     ]
    }
   ],
   "source": [
    "# Other\n",
    "\n",
    "import nbimporter # help imports between notebooks\n",
    "import os # operational system\n",
    "import numpy as np\n",
    "import random\n",
    "import matplotlib.pyplot as plt\n",
    "%matplotlib inline\n",
    "from pandas import read_csv\n",
    "from math import floor, ceil, sqrt, exp\n",
    "import time\n",
    "# ...\n",
    "\n",
    "print(\"Others imported - Ok\")"
   ]
  },
  {
   "cell_type": "markdown",
   "metadata": {},
   "source": [
    "## Definições Globais\n",
    "\n",
    "- **IS_LOCAL**: **True** - rodando programa localmente - sem acesso a GPU. **False** - rodando no Google Colab com acesso a GPU;\n",
    "- **IS_COLAB**: **True** - utiliza o Google Colab\n",
    "\n",
    "Alterações são necessárias na estrutura do código ao utilizar o [Google Colab](https://colab.research.google.com/). O Dataset estará no Drive. \n",
    "\n",
    "- ATENÇÃO: **TODO**: aprender a salvar arquivos no Google Drive quando a aplicação estiver utilizando o Google Colab."
   ]
  },
  {
   "cell_type": "code",
   "execution_count": 36,
   "metadata": {},
   "outputs": [
    {
     "name": "stdout",
     "output_type": "stream",
     "text": [
      "Google Colab setup - Ok\n"
     ]
    }
   ],
   "source": [
    "# initial definitions/imports for Google Colab\n",
    "\n",
    "IS_LOCAL = True\n",
    "IS_COLAB = False\n",
    "\n",
    "if IS_COLAB:\n",
    "    print(\"Using Google Colab...\")\n",
    "    from google.colab import drive\n",
    "    drive.mount('/content/dataset')\n",
    "    \n",
    "print(\"Google Colab setup - Ok\")"
   ]
  },
  {
   "cell_type": "markdown",
   "metadata": {},
   "source": [
    "- PATH_TO_DATA_SET:\n",
    "- IS_PROTOTYPE:\n",
    "- BATCH_SIZE: \n",
    "- PATCH_SIDE:\n",
    "- N_EPOCHS:\n",
    "- NORMALISE_IMGS:\n",
    "- TRAIN_STRIDE:\n",
    "- BAND_TYPE:\n",
    "- LOAD_TRAINED:\n",
    "- DATA_AUG:\n",
    "- IS_LOCAL: **True** - rodando programa localmente - sem acesso a GPU. **False** - rodando no Google Colab com acesso a GPU;"
   ]
  },
  {
   "cell_type": "code",
   "execution_count": 35,
   "metadata": {},
   "outputs": [
    {
     "name": "stdout",
     "output_type": "stream",
     "text": [
      "Global definitions - Ok\n"
     ]
    }
   ],
   "source": [
    "# Global variables definition\n",
    "\n",
    "# IS_PROTOTYPE = False\n",
    "\n",
    "BATCH_SIZE = 32\n",
    "PATCH_SIDE = 96\n",
    "# N_EPOCHS = 50\n",
    "N_EPOCHS = 5\n",
    "\n",
    "# NORMALISE_IMGS = True\n",
    "\n",
    "# TRAIN_STRIDE = int(PATCH_SIDE/2) - 1\n",
    "\n",
    "BAND_TYPE = 3 # 0-RGB | 1-RGBIr | 2-All bands s.t. resulution <= 20m | 3-All bands\n",
    "\n",
    "# LOAD_TRAINED = False\n",
    "\n",
    "# DATA_AUG = True\n",
    "\n",
    "PATH_LOCAL_DATASET = '/home/virginia/Github/change-detection/onera-oscd/OSCD'\n",
    "PATH_COLAB_DATASET = '/content/dataset/MyDrive/OSCD/'\n",
    "\n",
    "if IS_LOCAL:\n",
    "    PATH_TO_DATASET = PATH_LOCAL_DATASET\n",
    "else:\n",
    "    PATH_TO_DATASET = PATH_COLAB_DATASET\n",
    "\n",
    "print(\"Global definitions - Ok\")"
   ]
  },
  {
   "cell_type": "code",
   "execution_count": null,
   "metadata": {},
   "outputs": [],
   "source": []
  }
 ],
 "metadata": {
  "interpreter": {
   "hash": "f9973cb7371b5c2be5f18a8b8225bf4e6ad54a34fb5872a1bc006d10d97ce0f1"
  },
  "kernelspec": {
   "display_name": "Python 3.8.5 64-bit ('base': conda)",
   "language": "python",
   "name": "python38564bitbasecondab918388200e74c19bbf7a29e3542111d"
  },
  "language_info": {
   "codemirror_mode": {
    "name": "ipython",
    "version": 3
   },
   "file_extension": ".py",
   "mimetype": "text/x-python",
   "name": "python",
   "nbconvert_exporter": "python",
   "pygments_lexer": "ipython3",
   "version": "3.8.5"
  }
 },
 "nbformat": 4,
 "nbformat_minor": 4
}
